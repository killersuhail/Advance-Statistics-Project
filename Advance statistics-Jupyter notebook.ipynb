{
 "cells": [
  {
   "cell_type": "code",
   "execution_count": 105,
   "id": "e3f44a96",
   "metadata": {},
   "outputs": [],
   "source": [
    "# import the important packages\n",
    "import pandas as pd \n",
    "import numpy as np \n",
    "import matplotlib.pyplot as plt \n",
    "import seaborn as sns  \n",
    "%matplotlib inline\n",
    "import scipy.stats as stats  \n",
    "from scipy.stats import norm\n",
    "from scipy.stats import   ttest_1samp , ttest_ind\n",
    "from statsmodels.formula.api import ols      # For n-way ANOVA\n",
    "from statsmodels.stats.anova import _get_covariance,anova_lm # For n-way ANOVA\n",
    "import statsmodels.stats.api as sm"
   ]
  },
  {
   "cell_type": "markdown",
   "id": "e1303556",
   "metadata": {},
   "source": [
    "A physiotherapist with a male football team is interested in studying the relationship between foot injuries and the positions at which the players play from the data collected "
   ]
  },
  {
   "cell_type": "markdown",
   "id": "3f1460c0",
   "metadata": {},
   "source": [
    "1.1 What is the probability that a randomly chosen player would suffer an injury?"
   ]
  },
  {
   "cell_type": "code",
   "execution_count": 106,
   "id": "d8e05f39",
   "metadata": {},
   "outputs": [
    {
     "name": "stdout",
     "output_type": "stream",
     "text": [
      "The probability that a randomly chosen player would suffer an injury is  0.62\n"
     ]
    }
   ],
   "source": [
    "Total_number_of_players_injured=145\n",
    "Total_number_of_players_altogether=235\n",
    "print('The probability that a randomly chosen player would suffer an injury is ', round(Total_number_of_players_injured/Total_number_of_players_altogether,2) )"
   ]
  },
  {
   "cell_type": "markdown",
   "id": "2bacf398",
   "metadata": {},
   "source": [
    "1.2 What is the probability that a player is a forward or a winger?"
   ]
  },
  {
   "cell_type": "code",
   "execution_count": 107,
   "id": "a4bd9df7",
   "metadata": {},
   "outputs": [
    {
     "name": "stdout",
     "output_type": "stream",
     "text": [
      "The probabaility that a player is a forward or a winger  0.52\n"
     ]
    }
   ],
   "source": [
    "total_number_of_forward_players=94\n",
    "total_number_of_winger=29\n",
    "total_number_of_players=235\n",
    "a=total_number_of_forward_players+total_number_of_winger\n",
    "print('The probabaility that a player is a forward or a winger ', round(a/total_number_of_players,2))"
   ]
  },
  {
   "cell_type": "markdown",
   "id": "25704841",
   "metadata": {},
   "source": [
    "1.3 What is the probability that a randomly chosen player plays in a striker position and has a foot injury?"
   ]
  },
  {
   "cell_type": "code",
   "execution_count": 108,
   "id": "115c0a34",
   "metadata": {},
   "outputs": [
    {
     "name": "stdout",
     "output_type": "stream",
     "text": [
      "The probability that a randomly chosen player plays in a striker position and has a foot injury = 0.58\n"
     ]
    }
   ],
   "source": [
    "Total_number_of_strikers_in_the_injured_category=45\n",
    "Total_number_of_players_which_are_strikers=77\n",
    "print('The probability that a randomly chosen player plays in a striker position and has a foot injury =',round(Total_number_of_strikers_in_the_injured_category/Total_number_of_players_which_are_strikers,2))"
   ]
  },
  {
   "cell_type": "markdown",
   "id": "f0e1728a",
   "metadata": {},
   "source": [
    "1.4 What is the probability that a randomly chosen injured player is a striker?"
   ]
  },
  {
   "cell_type": "code",
   "execution_count": 109,
   "id": "ace0e903",
   "metadata": {},
   "outputs": [
    {
     "name": "stdout",
     "output_type": "stream",
     "text": [
      "The probability that a randomly chosen injured player is a stiker 0.31\n"
     ]
    }
   ],
   "source": [
    "Total_number_of_strikers_in_the_injured_category=45\n",
    "Total_number_of_injured_players=145\n",
    "print('The probability that a randomly chosen injured player is a stiker', round(Total_number_of_strikers_in_the_injured_category/Total_number_of_injured_players,2))"
   ]
  },
  {
   "cell_type": "markdown",
   "id": "884c7732",
   "metadata": {},
   "source": [
    "1.5 What is the probability that a randomly chosen injured player is either a forward or an attacking midfielder? "
   ]
  },
  {
   "cell_type": "code",
   "execution_count": 110,
   "id": "a5f159c6",
   "metadata": {},
   "outputs": [
    {
     "name": "stdout",
     "output_type": "stream",
     "text": [
      "The probability that a randomly chosen injured player is either a forward or an attacking midfielder is 0.55\n"
     ]
    }
   ],
   "source": [
    "Total_number_of_forward_players=56\n",
    "Total_number_of_midfielder=24\n",
    "Total_number_of_injured=145\n",
    "x=(Total_number_of_forward_players+Total_number_of_midfielder)\n",
    "print('The probability that a randomly chosen injured player is either a forward or an attacking midfielder is',round(x/Total_number_of_injured,2))"
   ]
  },
  {
   "cell_type": "markdown",
   "id": "23b4bc5b",
   "metadata": {},
   "source": [
    "Problem 2\n",
    "\n",
    "An independent research organization is trying to estimate the probability that an accident at a nuclear power plant will result in radiation leakage. The types of accidents possible at the plant are, fire hazards, mechanical failure, or human error. The research organization also knows that two or more types of accidents cannot occur simultaneously.\n",
    "\n",
    "According to the studies carried out by the organization, the probability of a radiation leak in case of a fire is 20%, the probability of a radiation leak in case of a mechanical 50%, and the probability of a radiation leak in case of a human error is 10%. The studies also showed the following;\n",
    "\n",
    "The probability of a radiation leak occurring simultaneously with a fire is 0.1%.\n",
    "The probability of a radiation leak occurring simultaneously with a mechanical failure is 0.15%.\n",
    "The probability of a radiation leak occurring simultaneously with a human error is 0.12%.\n",
    "On the basis of the information available, answer the questions below:"
   ]
  },
  {
   "cell_type": "markdown",
   "id": "4d6ed5cf",
   "metadata": {},
   "source": [
    "2.1 What are the probabilities of a fire, a mechanical failure, and a human error respectively?"
   ]
  },
  {
   "cell_type": "code",
   "execution_count": 111,
   "id": "241c6d2c",
   "metadata": {},
   "outputs": [
    {
     "name": "stdout",
     "output_type": "stream",
     "text": [
      "Probility of Fire is 0.005\n",
      "Probability of Mechanical Fairlure is 0.003\n",
      "Probability of HumanError is  0.012\n"
     ]
    }
   ],
   "source": [
    "Pr_of_radiation_leak_in_case_of_fire=20\n",
    "Pr_of_radiation_lea_with_fire=0.1\n",
    "Pr_of_radiation_lea_in_case_MF=50\n",
    "Pr_of_radiation_lea_with_MF=0.15\n",
    "Pr_of_radiation_lea_in_case_HE=10\n",
    "Pr_of_radiation_lea_with_HE=0.12\n",
    "\n",
    "print('Probility of Fire is', Pr_of_radiation_lea_with_fire/Pr_of_radiation_leak_in_case_of_fire )\n",
    "\n",
    "\n",
    "print('Probability of Mechanical Fairlure is',Pr_of_radiation_lea_with_MF/Pr_of_radiation_lea_in_case_MF)\n",
    "\n",
    "\n",
    "print('Probability of HumanError is ', Pr_of_radiation_lea_with_HE/Pr_of_radiation_lea_in_case_HE)"
   ]
  },
  {
   "cell_type": "markdown",
   "id": "89f449d0",
   "metadata": {},
   "source": [
    "2.2 What is the probability of a radiation leak?"
   ]
  },
  {
   "cell_type": "code",
   "execution_count": 112,
   "id": "aed1a765",
   "metadata": {},
   "outputs": [
    {
     "name": "stdout",
     "output_type": "stream",
     "text": [
      "the probability of a radiation leak = 0.37\n"
     ]
    }
   ],
   "source": [
    "a=Pr_of_radiation_lea_with_fire+Pr_of_radiation_lea_with_MF+Pr_of_radiation_lea_with_HE\n",
    "print('the probability of a radiation leak =',a)\n"
   ]
  },
  {
   "cell_type": "markdown",
   "id": "caaf51ce",
   "metadata": {},
   "source": [
    "2.3 Suppose there has been a radiation leak in the reactor for which the definite cause is not known. What is the probability that it has been caused by:\n",
    "\n",
    "A Fire.\n",
    "A Mechanical Failure.\n",
    "A Human Error."
   ]
  },
  {
   "cell_type": "code",
   "execution_count": 113,
   "id": "60b80958",
   "metadata": {},
   "outputs": [
    {
     "name": "stdout",
     "output_type": "stream",
     "text": [
      "The probability that it has been caused by a Fire = 0.27\n"
     ]
    }
   ],
   "source": [
    "Proability_of_fire=0.1/0.37\n",
    "print('The probability that it has been caused by a Fire =',round(Proability_of_fire,2))"
   ]
  },
  {
   "cell_type": "code",
   "execution_count": 114,
   "id": "9e59ac7e",
   "metadata": {},
   "outputs": [
    {
     "name": "stdout",
     "output_type": "stream",
     "text": [
      "The probability that it has been caused by a Fire = 0.41\n"
     ]
    }
   ],
   "source": [
    "Probability_of_mechanical_failure=0.15/0.37\n",
    "print('The probability that it has been caused by a Fire =',round(Probability_of_mechanical_failure,2))"
   ]
  },
  {
   "cell_type": "code",
   "execution_count": 115,
   "id": "31dd80fc",
   "metadata": {},
   "outputs": [
    {
     "name": "stdout",
     "output_type": "stream",
     "text": [
      "The probability that it has been caused by a Fire = 0.32\n"
     ]
    }
   ],
   "source": [
    "Probability_of_a_human_error=0.12/0.37\n",
    "print('The probability that it has been caused by a Fire =',round(Probability_of_a_human_error,2))"
   ]
  },
  {
   "cell_type": "markdown",
   "id": "39551af0",
   "metadata": {},
   "source": [
    "Problem 3:\n",
    "\n",
    "The breaking strength of gunny bags used for packaging cement is normally distributed with a mean of 5 kg per sq. centimeter and a standard deviation of 1.5 kg per sq. centimeter. The quality team of the cement company wants to know the following about the packaging material to better understand wastage or pilferage within the supply chain; Answer the questions below based on the given information; (Provide an appropriate visual representation of your answers, without which marks will be deducted)\n"
   ]
  },
  {
   "cell_type": "markdown",
   "id": "41b0bec0",
   "metadata": {},
   "source": [
    "\n",
    "3.1 What proportion of the gunny bags have a breaking strength less than 3.17 kg per sq cm?"
   ]
  },
  {
   "cell_type": "code",
   "execution_count": 116,
   "id": "051457c7",
   "metadata": {},
   "outputs": [
    {
     "data": {
      "text/plain": [
       "-1.22"
      ]
     },
     "execution_count": 116,
     "metadata": {},
     "output_type": "execute_result"
    }
   ],
   "source": [
    "#mean = μ=5Kg/Sq.cm\n",
    "#Sigma= σ= 1.5Kg/Sq.cm\n",
    "#Gunny bags Strength <3.17Kg/Sq.cm\n",
    "#z= Z = (x-μ)/σ\n",
    "z=((3.17-5)/1.5)\n",
    "z"
   ]
  },
  {
   "cell_type": "code",
   "execution_count": 117,
   "id": "2965a832",
   "metadata": {},
   "outputs": [
    {
     "data": {
      "image/png": "[encoded data removed]",
      "text/plain": [
       "<Figure size 432x288 with 1 Axes>"
      ]
     },
     "metadata": {
      "needs_background": "light"
     },
     "output_type": "display_data"
    }
   ],
   "source": [
    "x=np.linspace(-4,4,100)\n",
    "plt.plot(x,norm.pdf(x,0,1))\n",
    "plt.axvline(x=z,c='r')\n",
    "plt.show()"
   ]
  },
  {
   "cell_type": "code",
   "execution_count": 118,
   "id": "479d76fd",
   "metadata": {},
   "outputs": [
    {
     "data": {
      "text/plain": [
       "0.1112"
      ]
     },
     "execution_count": 118,
     "metadata": {},
     "output_type": "execute_result"
    }
   ],
   "source": [
    "round(stats.norm.cdf(3.17,loc=5,scale=1.5), 4)"
   ]
  },
  {
   "cell_type": "markdown",
   "id": "b83477ed",
   "metadata": {},
   "source": [
    "11.12% proportion of the gunny bags have a breaking strength less than 3.17 kg per sq cm"
   ]
  },
  {
   "cell_type": "markdown",
   "id": "41561ea5",
   "metadata": {},
   "source": [
    "3.2 What proportion of the gunny bags have a breaking strength at least 3.6 kg per sq cm.?\n"
   ]
  },
  {
   "cell_type": "code",
   "execution_count": 119,
   "id": "4e057147",
   "metadata": {},
   "outputs": [
    {
     "data": {
      "text/plain": [
       "-0.9333333333333332"
      ]
     },
     "execution_count": 119,
     "metadata": {},
     "output_type": "execute_result"
    }
   ],
   "source": [
    "#μ=5Kg/Sq.cm\n",
    "#σ=1.5Kg/Sq.cm\n",
    "#z= Z = (x-μ)/σ\n",
    "Z=((3.6-5)/1.5)\n",
    "Z"
   ]
  },
  {
   "cell_type": "code",
   "execution_count": 120,
   "id": "1c9bcf86",
   "metadata": {},
   "outputs": [
    {
     "data": {
      "image/png": "[encoded data removed]",
      "text/plain": [
       "<Figure size 432x288 with 1 Axes>"
      ]
     },
     "metadata": {
      "needs_background": "light"
     },
     "output_type": "display_data"
    }
   ],
   "source": [
    "x=np.linspace(-4,4,100)\n",
    "plt.plot(x,norm.pdf(x,0,1))\n",
    "plt.axvline(x=Z,c='r')\n",
    "plt.show()"
   ]
  },
  {
   "cell_type": "code",
   "execution_count": 121,
   "id": "6116ba6a",
   "metadata": {},
   "outputs": [
    {
     "data": {
      "text/plain": [
       "0.8247"
      ]
     },
     "execution_count": 121,
     "metadata": {},
     "output_type": "execute_result"
    }
   ],
   "source": [
    "\n",
    "round(1-stats.norm.cdf(3.6,loc=5,scale=1.5),4)"
   ]
  },
  {
   "cell_type": "markdown",
   "id": "9ca94c7b",
   "metadata": {},
   "source": [
    "82.45% of the gunny bags have a breaking strength at least 3.6 kg per sq cm."
   ]
  },
  {
   "cell_type": "markdown",
   "id": "42e51af5",
   "metadata": {},
   "source": [
    "3.3 What proportion of the gunny bags have a breaking strength between 5 and 5.5 kg per sq cm.?"
   ]
  },
  {
   "cell_type": "code",
   "execution_count": 122,
   "id": "8004735f",
   "metadata": {},
   "outputs": [
    {
     "data": {
      "text/plain": [
       "0.0"
      ]
     },
     "execution_count": 122,
     "metadata": {},
     "output_type": "execute_result"
    }
   ],
   "source": [
    "#μ=5Kg/Sq.cm\n",
    "#σ=1.5Kg/Sq.cm\n",
    "#z= Z = (x-μ)/σ\n",
    "z1=((5-5)/1.5)\n",
    "z1"
   ]
  },
  {
   "cell_type": "code",
   "execution_count": 123,
   "id": "b1568566",
   "metadata": {},
   "outputs": [
    {
     "data": {
      "text/plain": [
       "0.3333333333333333"
      ]
     },
     "execution_count": 123,
     "metadata": {},
     "output_type": "execute_result"
    }
   ],
   "source": [
    "#μ=5Kg/Sq.cm\n",
    "#σ=1.5Kg/Sq.cm\n",
    "#z= Z = (x-μ)/σ\n",
    "z2=((5.5-5)/1.5)\n",
    "z2"
   ]
  },
  {
   "cell_type": "code",
   "execution_count": 124,
   "id": "a51ef7b3",
   "metadata": {},
   "outputs": [
    {
     "data": {
      "image/png": "[encoded data removed]",
      "text/plain": [
       "<Figure size 432x288 with 1 Axes>"
      ]
     },
     "metadata": {
      "needs_background": "light"
     },
     "output_type": "display_data"
    }
   ],
   "source": [
    "x=np.linspace(-4,4,100)\n",
    "plt.plot(x,norm.pdf(x,0,1))\n",
    "plt.axvline(x=z1,c='r')\n",
    "plt.axvline(x=z2,c='r')\n",
    "plt.show()"
   ]
  },
  {
   "cell_type": "code",
   "execution_count": 125,
   "id": "3327937a",
   "metadata": {},
   "outputs": [
    {
     "data": {
      "text/plain": [
       "0.1306"
      ]
     },
     "execution_count": 125,
     "metadata": {},
     "output_type": "execute_result"
    }
   ],
   "source": [
    "round(stats.norm.cdf(5.5,loc=5,scale=1.5)-stats.norm.cdf(5,5,1.5),4)"
   ]
  },
  {
   "cell_type": "markdown",
   "id": "4998e4e5",
   "metadata": {},
   "source": [
    "13.06% of gunny bags have a breaking strength between 5 and 5.5 kg per sq cm."
   ]
  },
  {
   "cell_type": "markdown",
   "id": "ce62f22f",
   "metadata": {},
   "source": [
    "3.4 What proportion of the gunny bags have a breaking strength NOT between 3 and 7.5 kg per sq cm.?"
   ]
  },
  {
   "cell_type": "code",
   "execution_count": 126,
   "id": "35c9f4f0",
   "metadata": {},
   "outputs": [
    {
     "data": {
      "text/plain": [
       "-1.3333333333333333"
      ]
     },
     "execution_count": 126,
     "metadata": {},
     "output_type": "execute_result"
    }
   ],
   "source": [
    "#μ=5Kg/Sq.cm\n",
    "#σ=1.5Kg/Sq.cm\n",
    "#z= Z = (x-μ)/σ\n",
    "Z1=((3-5)/1.5)\n",
    "Z1"
   ]
  },
  {
   "cell_type": "code",
   "execution_count": 127,
   "id": "37f696d8",
   "metadata": {},
   "outputs": [
    {
     "data": {
      "text/plain": [
       "1.6666666666666667"
      ]
     },
     "execution_count": 127,
     "metadata": {},
     "output_type": "execute_result"
    }
   ],
   "source": [
    "#μ=5Kg/Sq.cm\n",
    "#σ=1.5Kg/Sq.cm\n",
    "#z= Z = (x-μ)/σ\n",
    "Z2=((7.5-5)/1.5)\n",
    "Z2"
   ]
  },
  {
   "cell_type": "code",
   "execution_count": 128,
   "id": "544c0cc8",
   "metadata": {},
   "outputs": [
    {
     "data": {
      "image/png": "[encoded data removed]",
      "text/plain": [
       "<Figure size 432x288 with 1 Axes>"
      ]
     },
     "metadata": {
      "needs_background": "light"
     },
     "output_type": "display_data"
    }
   ],
   "source": [
    "x=np.linspace(-4,4,100)\n",
    "plt.plot(x,norm.pdf(x,0,1))\n",
    "plt.axvline(x=Z1,c='r')\n",
    "plt.axvline(x=Z2,c='r')\n",
    "plt.show()"
   ]
  },
  {
   "cell_type": "code",
   "execution_count": 129,
   "id": "b06fc75e",
   "metadata": {},
   "outputs": [
    {
     "data": {
      "text/plain": [
       "0.86"
      ]
     },
     "execution_count": 129,
     "metadata": {},
     "output_type": "execute_result"
    }
   ],
   "source": [
    "#3.4\n",
    "round(stats.norm.cdf(7.5,5,1.5)-stats.norm.cdf(3,5,1.5),2)\n"
   ]
  },
  {
   "cell_type": "code",
   "execution_count": 130,
   "id": "559b3c2d",
   "metadata": {},
   "outputs": [
    {
     "data": {
      "text/plain": [
       "0.14"
      ]
     },
     "execution_count": 130,
     "metadata": {},
     "output_type": "execute_result"
    }
   ],
   "source": [
    "1-0.86"
   ]
  },
  {
   "cell_type": "markdown",
   "id": "ef987d16",
   "metadata": {},
   "source": [
    "14% of proportion of the gunny bags have a breaking strength NOT between 3 and 7.5 kg per sq cm."
   ]
  },
  {
   "cell_type": "markdown",
   "id": "a58505f5",
   "metadata": {},
   "source": [
    "Problem 4.\n",
    "Grades of the final examination in a training course are found to be normally distributed, with a mean of 77 and a standard deviation of 8.5. Based on the given information answer the questions below.\n"
   ]
  },
  {
   "cell_type": "markdown",
   "id": "df3b8adc",
   "metadata": {},
   "source": [
    "4.1 What is the probability that a randomly chosen student gets a grade below 85 on this exam?"
   ]
  },
  {
   "cell_type": "code",
   "execution_count": 131,
   "id": "e450edde",
   "metadata": {},
   "outputs": [
    {
     "data": {
      "text/plain": [
       "0.8267"
      ]
     },
     "execution_count": 131,
     "metadata": {},
     "output_type": "execute_result"
    }
   ],
   "source": [
    "#μ=77\n",
    "#σ=8.5\n",
    "round(stats.norm.cdf(85,loc=77,scale=8.5), 4)"
   ]
  },
  {
   "cell_type": "markdown",
   "id": "f98d5210",
   "metadata": {},
   "source": [
    "82.66% of student gets a grade below 85 on this exam"
   ]
  },
  {
   "cell_type": "markdown",
   "id": "e3254754",
   "metadata": {},
   "source": [
    "4.2 What is the probability that a randomly selected student scores between 65 and 87?"
   ]
  },
  {
   "cell_type": "code",
   "execution_count": 132,
   "id": "09001d67",
   "metadata": {},
   "outputs": [
    {
     "data": {
      "text/plain": [
       "0.8012869336779058"
      ]
     },
     "execution_count": 132,
     "metadata": {},
     "output_type": "execute_result"
    }
   ],
   "source": [
    "stats.norm.cdf(87,77,8.5)-stats.norm.cdf(65,77,8.5)"
   ]
  },
  {
   "cell_type": "markdown",
   "id": "d5048cdd",
   "metadata": {},
   "source": [
    "80.12% is the probability that a randomly selected student scores between 65 and 87."
   ]
  },
  {
   "cell_type": "markdown",
   "id": "bc46db53",
   "metadata": {},
   "source": [
    "4.3 What should be the passing cut-off so that 75% of the students clear the exam?"
   ]
  },
  {
   "cell_type": "code",
   "execution_count": 133,
   "id": "cdc506bb",
   "metadata": {},
   "outputs": [
    {
     "data": {
      "text/plain": [
       "82.7332"
      ]
     },
     "execution_count": 133,
     "metadata": {},
     "output_type": "execute_result"
    }
   ],
   "source": [
    "round(stats.norm.ppf(0.75,77,8.5),4)"
   ]
  },
  {
   "cell_type": "markdown",
   "id": "a2ac997f",
   "metadata": {},
   "source": [
    "82.73 marks is the passing cut-off so that 75% of the students clear the exam."
   ]
  },
  {
   "cell_type": "markdown",
   "id": "2ab07ecb",
   "metadata": {},
   "source": [
    "Problem 5:\n",
    "\n",
    " \n",
    "\n",
    "Zingaro stone printing is a company that specializes in printing images or patterns on polished or unpolished stones. However, for the optimum level of printing of the image the stone surface has to have a Brinell's hardness index of at least 150. Recently, Zingaro has received a batch of polished and unpolished stones from its clients. Use the data provided to answer the following (assuming a 5% significance level);\n",
    "\n",
    " \n",
    "\n",
    "5.1 Earlier experience of Zingaro with this particular client is favorable as the stone surface was found to be of adequate hardness. However, Zingaro has reason to believe now that the unpolished stones may not be suitable for printing. Do you think Zingaro is justified in thinking so?\n",
    "\n",
    "5.2 Is the mean hardness of the polished and unpolished stones the same?"
   ]
  },
  {
   "cell_type": "code",
   "execution_count": 134,
   "id": "fb0dfd6d",
   "metadata": {},
   "outputs": [],
   "source": [
    "d2=pd.read_csv('Zingaro_Company.csv')"
   ]
  },
  {
   "cell_type": "code",
   "execution_count": 135,
   "id": "2996f1d2",
   "metadata": {},
   "outputs": [
    {
     "data": {
      "text/html": [
       "<div>\n",
       "<style scoped>\n",
       "    .dataframe tbody tr th:only-of-type {\n",
       "        vertical-align: middle;\n",
       "    }\n",
       "\n",
       "    .dataframe tbody tr th {\n",
       "        vertical-align: top;\n",
       "    }\n",
       "\n",
       "    .dataframe thead th {\n",
       "        text-align: right;\n",
       "    }\n",
       "</style>\n",
       "<table border=\"1\" class=\"dataframe\">\n",
       "  <thead>\n",
       "    <tr style=\"text-align: right;\">\n",
       "      <th></th>\n",
       "      <th>Unpolished</th>\n",
       "      <th>Treated and Polished</th>\n",
       "    </tr>\n",
       "  </thead>\n",
       "  <tbody>\n",
       "    <tr>\n",
       "      <th>0</th>\n",
       "      <td>164.481713</td>\n",
       "      <td>133.209393</td>\n",
       "    </tr>\n",
       "    <tr>\n",
       "      <th>1</th>\n",
       "      <td>154.307045</td>\n",
       "      <td>138.482771</td>\n",
       "    </tr>\n",
       "    <tr>\n",
       "      <th>2</th>\n",
       "      <td>129.861048</td>\n",
       "      <td>159.665201</td>\n",
       "    </tr>\n",
       "    <tr>\n",
       "      <th>3</th>\n",
       "      <td>159.096184</td>\n",
       "      <td>145.663528</td>\n",
       "    </tr>\n",
       "    <tr>\n",
       "      <th>4</th>\n",
       "      <td>135.256748</td>\n",
       "      <td>136.789227</td>\n",
       "    </tr>\n",
       "  </tbody>\n",
       "</table>\n",
       "</div>"
      ],
      "text/plain": [
       "   Unpolished   Treated and Polished\n",
       "0   164.481713            133.209393\n",
       "1   154.307045            138.482771\n",
       "2   129.861048            159.665201\n",
       "3   159.096184            145.663528\n",
       "4   135.256748            136.789227"
      ]
     },
     "execution_count": 135,
     "metadata": {},
     "output_type": "execute_result"
    }
   ],
   "source": [
    "d2.head()"
   ]
  },
  {
   "cell_type": "code",
   "execution_count": 136,
   "id": "84a2aa77",
   "metadata": {},
   "outputs": [
    {
     "name": "stdout",
     "output_type": "stream",
     "text": [
      "<class 'pandas.core.frame.DataFrame'>\n",
      "RangeIndex: 75 entries, 0 to 74\n",
      "Data columns (total 2 columns):\n",
      " #   Column                Non-Null Count  Dtype  \n",
      "---  ------                --------------  -----  \n",
      " 0   Unpolished            75 non-null     float64\n",
      " 1   Treated and Polished  75 non-null     float64\n",
      "dtypes: float64(2)\n",
      "memory usage: 1.3 KB\n"
     ]
    }
   ],
   "source": [
    "d2.info();"
   ]
  },
  {
   "cell_type": "markdown",
   "id": "4a6529a7",
   "metadata": {},
   "source": [
    "Step 1: Define null and alternative hypotheses\n",
    "\n",
    "H0=Mean Brinell’s hardness Index of unpolished stone surface is greater than or equal to 150. \n",
    "\n",
    "Ha= Mean Brinell’s hardness Index of unpolished stone surface is less than 150.\n",
    "\n",
    "OR\n",
    "\n",
    "𝐻0 :  𝜇  => 150\n",
    "\n",
    "𝐻𝐴 :  𝜇  <  150\n",
    "\n"
   ]
  },
  {
   "cell_type": "markdown",
   "id": "49681758",
   "metadata": {},
   "source": [
    "Step 2: Decide the significance level\n",
    "Here we select 𝛼 = 0.05."
   ]
  },
  {
   "cell_type": "code",
   "execution_count": 137,
   "id": "d7cc7cf7",
   "metadata": {},
   "outputs": [
    {
     "name": "stdout",
     "output_type": "stream",
     "text": [
      "The sample size for this problem is 75 .\n"
     ]
    }
   ],
   "source": [
    "print(\"The sample size for this problem is\",len(d2),'.')"
   ]
  },
  {
   "cell_type": "markdown",
   "id": "f2347e9e",
   "metadata": {},
   "source": [
    "Step 3: Identify the test statistic\n",
    "We do not know the population standard deviation although the sample size is more than 30 still we use the t distribution and the  𝑡𝑆𝑇𝐴𝑇  test statistic."
   ]
  },
  {
   "cell_type": "markdown",
   "id": "b9bf3d71",
   "metadata": {},
   "source": [
    "Step 4: Calculate the p - value and test statistic\n",
    "\n",
    "scipy.stats.ttest_1samp calculates the t test for the mean of one sample given the sample observations and the expected value in the null hypothesis. This function returns t statistic and the two-tailed p value. Here we will need answer in one tailed p value and that too "
   ]
  },
  {
   "cell_type": "code",
   "execution_count": 138,
   "id": "3b4ea470",
   "metadata": {},
   "outputs": [
    {
     "name": "stdout",
     "output_type": "stream",
     "text": [
      "One sample t test \n",
      "t statistic: [-4.1646296  -1.22891066] p value: [8.34257399e-05 2.22998968e-01] \n"
     ]
    }
   ],
   "source": [
    "# one sample t-test\n",
    "# null hypothesis: expected value = 150\n",
    "t_statistic, p_value = ttest_1samp(d2, 150)\n",
    "print('One sample t test \\nt statistic: {0} p value: {1} '.format(t_statistic, p_value))"
   ]
  },
  {
   "cell_type": "code",
   "execution_count": 139,
   "id": "5b8928b3",
   "metadata": {},
   "outputs": [
    {
     "data": {
      "text/plain": [
       "4.171286995e-05"
      ]
     },
     "execution_count": 139,
     "metadata": {},
     "output_type": "execute_result"
    }
   ],
   "source": [
    "#p/2\n",
    "8.34257399e-05/2"
   ]
  },
  {
   "cell_type": "markdown",
   "id": "481f11df",
   "metadata": {},
   "source": [
    "So here for unpolished stones t statistic=-4.1 and p value for unploished stones is 4.171286995e-05"
   ]
  },
  {
   "cell_type": "markdown",
   "id": "7c3fb7da",
   "metadata": {},
   "source": [
    "Step 5 Decide to reject or accept null hypothesis\n",
    "Level of significance: 0.05\n",
    "\n",
    "We reject the null hypothesis since p value < Level of significance\n",
    "\n",
    "So the statistical decision is we reject the null hypothesis at 5% level of significance.\n",
    "\n",
    "It means that there is sufficient evidence for Zingaro stone printing company to believe that unpolished stones are not suitable for printing, that is they have Brinell’s hardness index of less than 150. "
   ]
  },
  {
   "cell_type": "markdown",
   "id": "e31350be",
   "metadata": {},
   "source": [
    "Answer 5.2"
   ]
  },
  {
   "cell_type": "code",
   "execution_count": 140,
   "id": "581f512c",
   "metadata": {},
   "outputs": [
    {
     "data": {
      "text/plain": [
       "147.78811718133335"
      ]
     },
     "execution_count": 140,
     "metadata": {},
     "output_type": "execute_result"
    }
   ],
   "source": [
    "d2['Treated and Polished'].mean()"
   ]
  },
  {
   "cell_type": "code",
   "execution_count": 141,
   "id": "da5b292a",
   "metadata": {},
   "outputs": [
    {
     "data": {
      "text/plain": [
       "134.11052653373335"
      ]
     },
     "execution_count": 141,
     "metadata": {},
     "output_type": "execute_result"
    }
   ],
   "source": [
    "d2['Unpolished '].mean()"
   ]
  },
  {
   "cell_type": "markdown",
   "id": "2df92168",
   "metadata": {},
   "source": [
    "Mean for Unpolished is 134.11 and for Treated and Polished is 147.79. Therefore, the mean is not same"
   ]
  },
  {
   "cell_type": "markdown",
   "id": "e5a8fbc3",
   "metadata": {},
   "source": [
    "###Problem 6:\n",
    "\n",
    " \n",
    "\n",
    "Aquarius health club, one of the largest and most popular cross-fit gyms in the country has been advertising a rigorous program for body conditioning. The program is considered successful if the candidate is able to do more than 5 push-ups, as compared to when he/she enrolled in the program. Using the sample data provided can you conclude whether the program is successful? (Consider the level of Significance as 5%)\n",
    "\n",
    "Note that this is a problem of the paired-t-test. Since the claim is that the training will make a difference of more than 5, the null and alternative hypotheses must be formed accordingly.\n",
    "\n",
    " "
   ]
  },
  {
   "cell_type": "code",
   "execution_count": 142,
   "id": "33a49f9c",
   "metadata": {},
   "outputs": [],
   "source": [
    "d1=pd.read_csv('Aquarius_gym.csv')"
   ]
  },
  {
   "cell_type": "code",
   "execution_count": 143,
   "id": "5353f5b1",
   "metadata": {},
   "outputs": [
    {
     "data": {
      "text/html": [
       "<div>\n",
       "<style scoped>\n",
       "    .dataframe tbody tr th:only-of-type {\n",
       "        vertical-align: middle;\n",
       "    }\n",
       "\n",
       "    .dataframe tbody tr th {\n",
       "        vertical-align: top;\n",
       "    }\n",
       "\n",
       "    .dataframe thead th {\n",
       "        text-align: right;\n",
       "    }\n",
       "</style>\n",
       "<table border=\"1\" class=\"dataframe\">\n",
       "  <thead>\n",
       "    <tr style=\"text-align: right;\">\n",
       "      <th></th>\n",
       "      <th>Sr no.</th>\n",
       "      <th>Before</th>\n",
       "      <th>After</th>\n",
       "    </tr>\n",
       "  </thead>\n",
       "  <tbody>\n",
       "    <tr>\n",
       "      <th>0</th>\n",
       "      <td>1</td>\n",
       "      <td>39</td>\n",
       "      <td>44</td>\n",
       "    </tr>\n",
       "    <tr>\n",
       "      <th>1</th>\n",
       "      <td>2</td>\n",
       "      <td>25</td>\n",
       "      <td>25</td>\n",
       "    </tr>\n",
       "    <tr>\n",
       "      <th>2</th>\n",
       "      <td>3</td>\n",
       "      <td>39</td>\n",
       "      <td>39</td>\n",
       "    </tr>\n",
       "    <tr>\n",
       "      <th>3</th>\n",
       "      <td>4</td>\n",
       "      <td>6</td>\n",
       "      <td>13</td>\n",
       "    </tr>\n",
       "    <tr>\n",
       "      <th>4</th>\n",
       "      <td>5</td>\n",
       "      <td>40</td>\n",
       "      <td>44</td>\n",
       "    </tr>\n",
       "  </tbody>\n",
       "</table>\n",
       "</div>"
      ],
      "text/plain": [
       "   Sr no.  Before  After\n",
       "0       1      39     44\n",
       "1       2      25     25\n",
       "2       3      39     39\n",
       "3       4       6     13\n",
       "4       5      40     44"
      ]
     },
     "execution_count": 143,
     "metadata": {},
     "output_type": "execute_result"
    }
   ],
   "source": [
    "d1.head()"
   ]
  },
  {
   "cell_type": "markdown",
   "id": "687ca89c",
   "metadata": {},
   "source": [
    "## Step 1: Define null and alternative hypotheses"
   ]
  },
  {
   "cell_type": "markdown",
   "id": "f6e2986c",
   "metadata": {},
   "source": [
    "Step 1: Define null and alternative hypotheses\n",
    "\n",
    "In testing whether the program is successfull or not which is defined if the candidate is able to do more than 5 push ups as compared to when he or she joined the program. \n",
    "\n",
    "Here u1 is the count of push ups after joining the program. \n",
    "\n",
    "u2 is the count of push ups before joining the program. \n",
    "\n",
    "the null hypothesis states that the difference  after joining the program push up counts has increased to more than 5.  \n",
    "\n",
    "the alternate hypothesis states that after joining the program push up count has not increased to more than 5.\n",
    "\n",
    " \n",
    "𝐻o :  u1-u2 < 5\n",
    "\n",
    "𝐻a :  u1  -  u2   >5\n"
   ]
  },
  {
   "cell_type": "markdown",
   "id": "c4e1dd16",
   "metadata": {},
   "source": [
    "### Step 2: Decide the significance level"
   ]
  },
  {
   "cell_type": "markdown",
   "id": "0d7263c2",
   "metadata": {},
   "source": [
    "Here we select $\\alpha$ = 0.05 and the population standard deviation is not known."
   ]
  },
  {
   "cell_type": "markdown",
   "id": "9b7f500f",
   "metadata": {},
   "source": [
    "### Step 3: Identify the test statistic"
   ]
  },
  {
   "cell_type": "markdown",
   "id": "ef43c3d5",
   "metadata": {},
   "source": [
    "* We have two samples and we do not know the population standard deviation.\n",
    "* Sample sizes for both samples are  same.\n",
    "* We you use the t distribution and the $t_{STAT}$ test statistic for two sample unpaired test."
   ]
  },
  {
   "cell_type": "markdown",
   "id": "f602f33d",
   "metadata": {},
   "source": [
    "## Step 4: Calculate the p - value and test statistic"
   ]
  },
  {
   "cell_type": "code",
   "execution_count": 144,
   "id": "2cd69233",
   "metadata": {},
   "outputs": [
    {
     "name": "stdout",
     "output_type": "stream",
     "text": [
      "19.322619811082458 2.2920419252511966e-35\n"
     ]
    }
   ],
   "source": [
    "t_stat, p_value1  = stats.ttest_rel(d1['After'],d1['Before'])  #Performing a paired t-test\n",
    "\n",
    "print(t_stat, p_value1) #Python gives us a two tailed test. The pvalue here is for two-tailed test."
   ]
  },
  {
   "cell_type": "code",
   "execution_count": 145,
   "id": "0a2f20c7",
   "metadata": {},
   "outputs": [
    {
     "data": {
      "text/plain": [
       "1.1460209626255983e-35"
      ]
     },
     "execution_count": 145,
     "metadata": {},
     "output_type": "execute_result"
    }
   ],
   "source": [
    "#The following is the pvalue for a one-tailed test.\n",
    "\n",
    "(p_value1/2)"
   ]
  },
  {
   "cell_type": "code",
   "execution_count": 146,
   "id": "8d35f493",
   "metadata": {},
   "outputs": [
    {
     "name": "stdout",
     "output_type": "stream",
     "text": [
      "The T statistic is: 19.322619811082458 \n",
      "The corresponding pvalue is : 1.1460209626255983e-35\n"
     ]
    }
   ],
   "source": [
    "print ('The T statistic is:',t_stat,'\\n''The corresponding pvalue is :',(p_value1/2))"
   ]
  },
  {
   "cell_type": "markdown",
   "id": "53f7f742",
   "metadata": {},
   "source": [
    "## Step 5:  Decide to reject or accept null hypothesis"
   ]
  },
  {
   "cell_type": "code",
   "execution_count": 147,
   "id": "6cea0b7d",
   "metadata": {},
   "outputs": [
    {
     "name": "stdout",
     "output_type": "stream",
     "text": [
      "Paired two-sample t-test p-value= [4.17128700e-05 1.11499484e-01]\n",
      "We have enough evidence to reject the null hypothesis in favour of alternative hypothesis\n"
     ]
    }
   ],
   "source": [
    "# p_value < 0.05 => alternative hypothesis:\n",
    "# they don't have the same mean at the 5% significance level\n",
    "print (\"Paired two-sample t-test p-value=\", p_value/2)\n",
    "\n",
    "alpha_level = 0.05\n",
    "\n",
    "if (p_value1/2) < alpha_level:\n",
    "    print('We have enough evidence to reject the null hypothesis in favour of alternative hypothesis')\n",
    "    \n",
    "else:\n",
    "    print('We do not have enough evidence to reject the null hypothesis in favour of alternative hypothesis')\n",
    "    "
   ]
  },
  {
   "cell_type": "markdown",
   "id": "6b86acb2",
   "metadata": {},
   "source": [
    "###Problem 7:\n",
    "\n",
    " \n",
    "\n",
    "Dental implant data: The hardness of metal implant in dental cavities depends on multiple factors, such as the method of implant, the temperature at which the metal is treated, the alloy used as well as on the dentists who may favour one method above another and may work better in his/her favourite method. The response is the variable of interest."
   ]
  },
  {
   "cell_type": "code",
   "execution_count": 148,
   "id": "b75427ab",
   "metadata": {},
   "outputs": [],
   "source": [
    "d3=pd.read_excel('Dental Hardness data.xlsx')"
   ]
  },
  {
   "cell_type": "code",
   "execution_count": 149,
   "id": "71c58252",
   "metadata": {},
   "outputs": [
    {
     "data": {
      "text/html": [
       "<div>\n",
       "<style scoped>\n",
       "    .dataframe tbody tr th:only-of-type {\n",
       "        vertical-align: middle;\n",
       "    }\n",
       "\n",
       "    .dataframe tbody tr th {\n",
       "        vertical-align: top;\n",
       "    }\n",
       "\n",
       "    .dataframe thead th {\n",
       "        text-align: right;\n",
       "    }\n",
       "</style>\n",
       "<table border=\"1\" class=\"dataframe\">\n",
       "  <thead>\n",
       "    <tr style=\"text-align: right;\">\n",
       "      <th></th>\n",
       "      <th>Dentist</th>\n",
       "      <th>Method</th>\n",
       "      <th>Alloy</th>\n",
       "      <th>Temp</th>\n",
       "      <th>Response</th>\n",
       "    </tr>\n",
       "  </thead>\n",
       "  <tbody>\n",
       "    <tr>\n",
       "      <th>0</th>\n",
       "      <td>1</td>\n",
       "      <td>1</td>\n",
       "      <td>1</td>\n",
       "      <td>1500</td>\n",
       "      <td>813</td>\n",
       "    </tr>\n",
       "    <tr>\n",
       "      <th>1</th>\n",
       "      <td>1</td>\n",
       "      <td>1</td>\n",
       "      <td>1</td>\n",
       "      <td>1600</td>\n",
       "      <td>792</td>\n",
       "    </tr>\n",
       "    <tr>\n",
       "      <th>2</th>\n",
       "      <td>1</td>\n",
       "      <td>1</td>\n",
       "      <td>1</td>\n",
       "      <td>1700</td>\n",
       "      <td>792</td>\n",
       "    </tr>\n",
       "    <tr>\n",
       "      <th>3</th>\n",
       "      <td>1</td>\n",
       "      <td>1</td>\n",
       "      <td>2</td>\n",
       "      <td>1500</td>\n",
       "      <td>907</td>\n",
       "    </tr>\n",
       "    <tr>\n",
       "      <th>4</th>\n",
       "      <td>1</td>\n",
       "      <td>1</td>\n",
       "      <td>2</td>\n",
       "      <td>1600</td>\n",
       "      <td>792</td>\n",
       "    </tr>\n",
       "  </tbody>\n",
       "</table>\n",
       "</div>"
      ],
      "text/plain": [
       "   Dentist  Method  Alloy  Temp  Response\n",
       "0        1       1      1  1500       813\n",
       "1        1       1      1  1600       792\n",
       "2        1       1      1  1700       792\n",
       "3        1       1      2  1500       907\n",
       "4        1       1      2  1600       792"
      ]
     },
     "execution_count": 149,
     "metadata": {},
     "output_type": "execute_result"
    }
   ],
   "source": [
    "d3.head()"
   ]
  },
  {
   "cell_type": "code",
   "execution_count": 150,
   "id": "3671d5a9",
   "metadata": {},
   "outputs": [
    {
     "data": {
      "text/plain": [
       "(90, 5)"
      ]
     },
     "execution_count": 150,
     "metadata": {},
     "output_type": "execute_result"
    }
   ],
   "source": [
    "#90rows and 5 columns\n",
    "d3.shape"
   ]
  },
  {
   "cell_type": "code",
   "execution_count": 151,
   "id": "154cf81a",
   "metadata": {},
   "outputs": [
    {
     "name": "stdout",
     "output_type": "stream",
     "text": [
      "<class 'pandas.core.frame.DataFrame'>\n",
      "RangeIndex: 90 entries, 0 to 89\n",
      "Data columns (total 5 columns):\n",
      " #   Column    Non-Null Count  Dtype\n",
      "---  ------    --------------  -----\n",
      " 0   Dentist   90 non-null     int64\n",
      " 1   Method    90 non-null     int64\n",
      " 2   Alloy     90 non-null     int64\n",
      " 3   Temp      90 non-null     int64\n",
      " 4   Response  90 non-null     int64\n",
      "dtypes: int64(5)\n",
      "memory usage: 3.6 KB\n"
     ]
    }
   ],
   "source": [
    "d3.info()"
   ]
  },
  {
   "cell_type": "markdown",
   "id": "b6b23f82",
   "metadata": {},
   "source": [
    "Same number of samples in all groups. "
   ]
  },
  {
   "cell_type": "code",
   "execution_count": 152,
   "id": "0d3e0286",
   "metadata": {},
   "outputs": [
    {
     "data": {
      "text/html": [
       "<div>\n",
       "<style scoped>\n",
       "    .dataframe tbody tr th:only-of-type {\n",
       "        vertical-align: middle;\n",
       "    }\n",
       "\n",
       "    .dataframe tbody tr th {\n",
       "        vertical-align: top;\n",
       "    }\n",
       "\n",
       "    .dataframe thead th {\n",
       "        text-align: right;\n",
       "    }\n",
       "</style>\n",
       "<table border=\"1\" class=\"dataframe\">\n",
       "  <thead>\n",
       "    <tr style=\"text-align: right;\">\n",
       "      <th></th>\n",
       "      <th>Dentist</th>\n",
       "      <th>Method</th>\n",
       "      <th>Alloy</th>\n",
       "      <th>Temp</th>\n",
       "      <th>Response</th>\n",
       "    </tr>\n",
       "  </thead>\n",
       "  <tbody>\n",
       "    <tr>\n",
       "      <th>count</th>\n",
       "      <td>90.000000</td>\n",
       "      <td>90.000000</td>\n",
       "      <td>90.000000</td>\n",
       "      <td>90.000000</td>\n",
       "      <td>90.000000</td>\n",
       "    </tr>\n",
       "    <tr>\n",
       "      <th>mean</th>\n",
       "      <td>3.000000</td>\n",
       "      <td>2.000000</td>\n",
       "      <td>1.500000</td>\n",
       "      <td>1600.000000</td>\n",
       "      <td>741.777778</td>\n",
       "    </tr>\n",
       "    <tr>\n",
       "      <th>std</th>\n",
       "      <td>1.422136</td>\n",
       "      <td>0.821071</td>\n",
       "      <td>0.502801</td>\n",
       "      <td>82.107083</td>\n",
       "      <td>145.767845</td>\n",
       "    </tr>\n",
       "    <tr>\n",
       "      <th>min</th>\n",
       "      <td>1.000000</td>\n",
       "      <td>1.000000</td>\n",
       "      <td>1.000000</td>\n",
       "      <td>1500.000000</td>\n",
       "      <td>289.000000</td>\n",
       "    </tr>\n",
       "    <tr>\n",
       "      <th>25%</th>\n",
       "      <td>2.000000</td>\n",
       "      <td>1.000000</td>\n",
       "      <td>1.000000</td>\n",
       "      <td>1500.000000</td>\n",
       "      <td>698.000000</td>\n",
       "    </tr>\n",
       "    <tr>\n",
       "      <th>50%</th>\n",
       "      <td>3.000000</td>\n",
       "      <td>2.000000</td>\n",
       "      <td>1.500000</td>\n",
       "      <td>1600.000000</td>\n",
       "      <td>767.000000</td>\n",
       "    </tr>\n",
       "    <tr>\n",
       "      <th>75%</th>\n",
       "      <td>4.000000</td>\n",
       "      <td>3.000000</td>\n",
       "      <td>2.000000</td>\n",
       "      <td>1700.000000</td>\n",
       "      <td>824.000000</td>\n",
       "    </tr>\n",
       "    <tr>\n",
       "      <th>max</th>\n",
       "      <td>5.000000</td>\n",
       "      <td>3.000000</td>\n",
       "      <td>2.000000</td>\n",
       "      <td>1700.000000</td>\n",
       "      <td>1115.000000</td>\n",
       "    </tr>\n",
       "  </tbody>\n",
       "</table>\n",
       "</div>"
      ],
      "text/plain": [
       "         Dentist     Method      Alloy         Temp     Response\n",
       "count  90.000000  90.000000  90.000000    90.000000    90.000000\n",
       "mean    3.000000   2.000000   1.500000  1600.000000   741.777778\n",
       "std     1.422136   0.821071   0.502801    82.107083   145.767845\n",
       "min     1.000000   1.000000   1.000000  1500.000000   289.000000\n",
       "25%     2.000000   1.000000   1.000000  1500.000000   698.000000\n",
       "50%     3.000000   2.000000   1.500000  1600.000000   767.000000\n",
       "75%     4.000000   3.000000   2.000000  1700.000000   824.000000\n",
       "max     5.000000   3.000000   2.000000  1700.000000  1115.000000"
      ]
     },
     "execution_count": 152,
     "metadata": {},
     "output_type": "execute_result"
    }
   ],
   "source": [
    "d3.describe(include='all')"
   ]
  },
  {
   "cell_type": "code",
   "execution_count": 153,
   "id": "205aef02",
   "metadata": {},
   "outputs": [
    {
     "data": {
      "text/plain": [
       "1    18\n",
       "2    18\n",
       "3    18\n",
       "4    18\n",
       "5    18\n",
       "Name: Dentist, dtype: int64"
      ]
     },
     "execution_count": 153,
     "metadata": {},
     "output_type": "execute_result"
    }
   ],
   "source": [
    "d3.Dentist.value_counts()"
   ]
  },
  {
   "cell_type": "code",
   "execution_count": 154,
   "id": "77ed91e4",
   "metadata": {},
   "outputs": [
    {
     "data": {
      "text/plain": [
       "1    30\n",
       "2    30\n",
       "3    30\n",
       "Name: Method, dtype: int64"
      ]
     },
     "execution_count": 154,
     "metadata": {},
     "output_type": "execute_result"
    }
   ],
   "source": [
    "d3.Method.value_counts()"
   ]
  },
  {
   "cell_type": "code",
   "execution_count": 155,
   "id": "1dbfb800",
   "metadata": {},
   "outputs": [
    {
     "data": {
      "text/plain": [
       "1    45\n",
       "2    45\n",
       "Name: Alloy, dtype: int64"
      ]
     },
     "execution_count": 155,
     "metadata": {},
     "output_type": "execute_result"
    }
   ],
   "source": [
    "d3.Alloy.value_counts()"
   ]
  },
  {
   "cell_type": "code",
   "execution_count": 156,
   "id": "2f4e4660",
   "metadata": {},
   "outputs": [
    {
     "data": {
      "text/plain": [
       "1500    30\n",
       "1600    30\n",
       "1700    30\n",
       "Name: Temp, dtype: int64"
      ]
     },
     "execution_count": 156,
     "metadata": {},
     "output_type": "execute_result"
    }
   ],
   "source": [
    "d3.Temp.value_counts()"
   ]
  },
  {
   "cell_type": "markdown",
   "id": "c907c660",
   "metadata": {},
   "source": [
    "7.2 Before the hypotheses may be tested, state the required assumptions. Are the assumptions fulfilled? Comment separately on both alloy types.? "
   ]
  },
  {
   "cell_type": "markdown",
   "id": "6679fda9",
   "metadata": {},
   "source": [
    "Required assumptions\n",
    "\n",
    "-The samples drawn from different populations are independent and random. \n",
    "\n",
    "-There should be no significant outliers. \n",
    "\n",
    "-Dependent variable should be measured at the continues level. \n",
    "\n",
    "-Independent variables should each consist of tow or more categorical , independent groups. \n",
    "\n",
    "-Dependent variable should be approximately normally distributed.\n",
    "\n",
    "-Number of observations in each group are same. \n"
   ]
  },
  {
   "cell_type": "markdown",
   "id": "7ad62079",
   "metadata": {},
   "source": [
    "Checking assumptions for the given data set-"
   ]
  },
  {
   "cell_type": "code",
   "execution_count": 157,
   "id": "86da0f86",
   "metadata": {},
   "outputs": [
    {
     "data": {
      "image/png": "[encoded data removed]",
      "text/plain": [
       "<Figure size 1080x576 with 6 Axes>"
      ]
     },
     "metadata": {
      "needs_background": "light"
     },
     "output_type": "display_data"
    }
   ],
   "source": [
    "#Checking normality of distribution. \n",
    "d3.hist(figsize=(15,8))\n",
    "plt.show()"
   ]
  },
  {
   "cell_type": "code",
   "execution_count": 158,
   "id": "09fcacb7",
   "metadata": {},
   "outputs": [],
   "source": [
    "#checking outliers"
   ]
  },
  {
   "cell_type": "code",
   "execution_count": 159,
   "id": "b11d510f",
   "metadata": {},
   "outputs": [
    {
     "data": {
      "image/png": "[encoded data removed]",
      "text/plain": [
       "<Figure size 432x288 with 1 Axes>"
      ]
     },
     "metadata": {
      "needs_background": "light"
     },
     "output_type": "display_data"
    }
   ],
   "source": [
    "sns.boxplot(x= d3['Dentist'], color='lightblue')\n",
    "plt.show()"
   ]
  },
  {
   "cell_type": "code",
   "execution_count": 160,
   "id": "f5a38b39",
   "metadata": {},
   "outputs": [
    {
     "data": {
      "image/png": "[encoded data removed]",
      "text/plain": [
       "<Figure size 432x288 with 1 Axes>"
      ]
     },
     "metadata": {
      "needs_background": "light"
     },
     "output_type": "display_data"
    }
   ],
   "source": [
    "sns.boxplot(x= d3['Method'], color='lightblue')\n",
    "plt.show()"
   ]
  },
  {
   "cell_type": "code",
   "execution_count": 161,
   "id": "91da4005",
   "metadata": {},
   "outputs": [
    {
     "data": {
      "image/png": "[encoded data removed]",
      "text/plain": [
       "<Figure size 432x288 with 1 Axes>"
      ]
     },
     "metadata": {
      "needs_background": "light"
     },
     "output_type": "display_data"
    }
   ],
   "source": [
    "sns.boxplot(x= d3['Alloy'], color='lightblue')\n",
    "plt.show()"
   ]
  },
  {
   "cell_type": "code",
   "execution_count": 162,
   "id": "43c53010",
   "metadata": {},
   "outputs": [
    {
     "data": {
      "image/png": "[encoded data removed]",
      "text/plain": [
       "<Figure size 432x288 with 1 Axes>"
      ]
     },
     "metadata": {
      "needs_background": "light"
     },
     "output_type": "display_data"
    }
   ],
   "source": [
    "sns.boxplot(x= d3['Temp'], color='lightblue')\n",
    "plt.show()"
   ]
  },
  {
   "cell_type": "code",
   "execution_count": 163,
   "id": "07e206c3",
   "metadata": {},
   "outputs": [
    {
     "data": {
      "image/png": "[encoded data removed]",
      "text/plain": [
       "<Figure size 432x288 with 1 Axes>"
      ]
     },
     "metadata": {
      "needs_background": "light"
     },
     "output_type": "display_data"
    }
   ],
   "source": [
    "sns.boxplot(x=d3['Response'], color='lightblue')\n",
    "plt.show()"
   ]
  },
  {
   "cell_type": "code",
   "execution_count": 164,
   "id": "45a90532",
   "metadata": {},
   "outputs": [],
   "source": [
    "#removing outliers. \n",
    "def remove_outlier(col):\n",
    "    sorted(col)\n",
    "    Q1,Q3=col.quantile([0.25,0.75])\n",
    "    IQR=Q3-Q1\n",
    "    lower_range= Q1-(1.5 * IQR)\n",
    "    upper_range= Q3+(1.5 * IQR)\n",
    "    return lower_range, upper_range"
   ]
  },
  {
   "cell_type": "code",
   "execution_count": 165,
   "id": "1ee0d90a",
   "metadata": {},
   "outputs": [],
   "source": [
    "lrincome,urincome=remove_outlier(d3['Response'])\n",
    "d3['Response']=np.where(d3['Response']>urincome,urincome,d3['Response'])\n",
    "d3['Response']=np.where(d3['Response']<lrincome,lrincome,d3['Response'])"
   ]
  },
  {
   "cell_type": "code",
   "execution_count": 166,
   "id": "eda7f94e",
   "metadata": {},
   "outputs": [
    {
     "data": {
      "image/png": "[encoded data removed]",
      "text/plain": [
       "<Figure size 1080x576 with 6 Axes>"
      ]
     },
     "metadata": {
      "needs_background": "light"
     },
     "output_type": "display_data"
    }
   ],
   "source": [
    "d3.hist(figsize=(15,8))\n",
    "plt.show()"
   ]
  },
  {
   "cell_type": "code",
   "execution_count": 167,
   "id": "b69e6a54",
   "metadata": {},
   "outputs": [
    {
     "data": {
      "image/png": "[encoded data removed]",
      "text/plain": [
       "<Figure size 432x288 with 1 Axes>"
      ]
     },
     "metadata": {
      "needs_background": "light"
     },
     "output_type": "display_data"
    }
   ],
   "source": [
    "#outliers removed\n",
    "sns.boxplot(x= d3['Response'], color='lightblue')\n",
    "plt.show()"
   ]
  },
  {
   "cell_type": "code",
   "execution_count": 168,
   "id": "88c4cfa9",
   "metadata": {},
   "outputs": [],
   "source": [
    "#changing numerical variables to categorical variables\n",
    "d3['Dentist']= pd.Categorical(d3['Dentist'])\n",
    "d3['Method']= pd.Categorical(d3['Method'])\n",
    "d3['Alloy']= pd.Categorical(d3['Alloy'])\n",
    "d3['Temp']=pd.Categorical(d3['Temp'])"
   ]
  },
  {
   "cell_type": "code",
   "execution_count": 169,
   "id": "1d8ee6b2",
   "metadata": {},
   "outputs": [
    {
     "name": "stdout",
     "output_type": "stream",
     "text": [
      "<class 'pandas.core.frame.DataFrame'>\n",
      "RangeIndex: 90 entries, 0 to 89\n",
      "Data columns (total 5 columns):\n",
      " #   Column    Non-Null Count  Dtype   \n",
      "---  ------    --------------  -----   \n",
      " 0   Dentist   90 non-null     category\n",
      " 1   Method    90 non-null     category\n",
      " 2   Alloy     90 non-null     category\n",
      " 3   Temp      90 non-null     category\n",
      " 4   Response  90 non-null     float64 \n",
      "dtypes: category(4), float64(1)\n",
      "memory usage: 1.8 KB\n"
     ]
    }
   ],
   "source": [
    "d3.info()"
   ]
  },
  {
   "cell_type": "code",
   "execution_count": 194,
   "id": "4569cd22",
   "metadata": {},
   "outputs": [],
   "source": [
    "#forming subcategories\n",
    "Dentist_1 = d3[d3['Dentist']==1]['Response']\n",
    "Dentist_2 = d3[d3['Dentist']==2]['Response']\n",
    "Dentist_3 = d3[d3['Dentist']==3]['Response']\n",
    "Dentist_4 = d3[d3['Dentist']==4]['Response']\n",
    "Dentist_5 = d3[d3['Dentist']==5]['Response']\n",
    "\n",
    "Method_1 = d3[d3['Method']==1]['Response']\n",
    "Method_2 = d3[d3['Method']==2]['Response']\n",
    "Method_3 = d3[d3['Method']==3]['Response']\n",
    "\n",
    "Alloy_1 = d3[d3['Alloy']==1]['Response']\n",
    "Alloy_2 = d3[d3['Alloy']==2]['Response']\n",
    "Alloy_3 = d3[d3['Alloy']==3]['Response']\n",
    "\n",
    "Temp_1 = d3[d3['Temp']==1500]['Response']\n",
    "Temp_2 = d3[d3['Temp']==1600]['Response']\n",
    "Temp_3 = d3[d3['Temp']==1700]['Response']"
   ]
  },
  {
   "cell_type": "code",
   "execution_count": 171,
   "id": "64f58cf9",
   "metadata": {},
   "outputs": [
    {
     "name": "stdout",
     "output_type": "stream",
     "text": [
      "18\n",
      "18\n",
      "18\n",
      "18\n",
      "18\n"
     ]
    }
   ],
   "source": [
    "#checking value counts of each group\n",
    "print(len(Dentist_1))\n",
    "print(len(Dentist_2))\n",
    "print(len(Dentist_3))\n",
    "print(len(Dentist_4))\n",
    "print(len(Dentist_5))"
   ]
  },
  {
   "cell_type": "code",
   "execution_count": 172,
   "id": "edefe451",
   "metadata": {},
   "outputs": [
    {
     "name": "stdout",
     "output_type": "stream",
     "text": [
      "30\n",
      "30\n",
      "30\n"
     ]
    }
   ],
   "source": [
    "print(len(Method_1))\n",
    "print(len(Method_2))\n",
    "print(len(Method_3))"
   ]
  },
  {
   "cell_type": "code",
   "execution_count": 173,
   "id": "2a11d458",
   "metadata": {},
   "outputs": [
    {
     "name": "stdout",
     "output_type": "stream",
     "text": [
      "45\n",
      "45\n"
     ]
    }
   ],
   "source": [
    "print(len(Alloy_1))\n",
    "print(len(Alloy_2))"
   ]
  },
  {
   "cell_type": "code",
   "execution_count": 174,
   "id": "475182ff",
   "metadata": {},
   "outputs": [
    {
     "name": "stdout",
     "output_type": "stream",
     "text": [
      "30\n",
      "30\n",
      "30\n"
     ]
    }
   ],
   "source": [
    "print(len(Temp_1))\n",
    "print(len(Temp_2))\n",
    "print(len(Temp_3))"
   ]
  },
  {
   "cell_type": "code",
   "execution_count": 175,
   "id": "0aa57bcd",
   "metadata": {},
   "outputs": [],
   "source": [
    "#checking normalcy"
   ]
  },
  {
   "cell_type": "code",
   "execution_count": 176,
   "id": "7fe04ed0",
   "metadata": {},
   "outputs": [
    {
     "name": "stdout",
     "output_type": "stream",
     "text": [
      "ShapiroResult(statistic=0.9512528777122498, pvalue=0.44500911235809326)\n",
      "ShapiroResult(statistic=0.9665580987930298, pvalue=0.731051504611969)\n",
      "ShapiroResult(statistic=0.9573882818222046, pvalue=0.5520997643470764)\n",
      "\n",
      "\n",
      "ShapiroResult(statistic=0.9796932339668274, pvalue=0.8173373937606812)\n",
      "ShapiroResult(statistic=0.9809848666191101, pvalue=0.8510975241661072)\n",
      "ShapiroResult(statistic=0.8871709704399109, pvalue=0.004136798437684774)\n",
      "\n",
      "\n",
      "ShapiroResult(statistic=0.8991953134536743, pvalue=0.000894434517249465)\n",
      "ShapiroResult(statistic=0.927866518497467, pvalue=0.007890536449849606)\n",
      "\n",
      "\n",
      "ShapiroResult(statistic=0.9331822395324707, pvalue=0.0596865713596344)\n",
      "ShapiroResult(statistic=0.9791679382324219, pvalue=0.8030202984809875)\n",
      "ShapiroResult(statistic=0.9185514450073242, pvalue=0.02460181713104248)\n"
     ]
    }
   ],
   "source": [
    "from scipy import stats\n",
    "#The Shapiro-Wilk test tests the null hypothesis that the data was drawn from a normal distribution.\n",
    "#alpha = 0.05\n",
    "print(stats.shapiro([Dentist_1]))\n",
    "print(stats.shapiro([Dentist_2]))\n",
    "print(stats.shapiro([Dentist_3]))\n",
    "\n",
    "print('\\n')\n",
    "print(stats.shapiro([Method_1]))\n",
    "print(stats.shapiro([Method_2]))\n",
    "print(stats.shapiro([Method_3]))\n",
    "\n",
    "print('\\n')\n",
    "print(stats.shapiro([Alloy_1]))\n",
    "print(stats.shapiro([Alloy_2]))\n",
    "\n",
    "print('\\n')\n",
    "print(stats.shapiro([Temp_1]))\n",
    "print(stats.shapiro([Temp_2]))\n",
    "print(stats.shapiro([Temp_3]))"
   ]
  },
  {
   "cell_type": "code",
   "execution_count": 177,
   "id": "778df0a9",
   "metadata": {
    "scrolled": false
   },
   "outputs": [
    {
     "name": "stdout",
     "output_type": "stream",
     "text": [
      "AndersonResult(statistic=0.4799398656918825, critical_values=array([0.503, 0.573, 0.687, 0.802, 0.954]), significance_level=array([15. , 10. ,  5. ,  2.5,  1. ]))\n",
      "AndersonResult(statistic=0.18489207423293763, critical_values=array([0.503, 0.573, 0.687, 0.802, 0.954]), significance_level=array([15. , 10. ,  5. ,  2.5,  1. ]))\n",
      "AndersonResult(statistic=0.31139490001785575, critical_values=array([0.503, 0.573, 0.687, 0.802, 0.954]), significance_level=array([15. , 10. ,  5. ,  2.5,  1. ]))\n",
      "AndersonResult(statistic=0.2445499504870412, critical_values=array([0.521, 0.593, 0.712, 0.83 , 0.988]), significance_level=array([15. , 10. ,  5. ,  2.5,  1. ]))\n",
      "AndersonResult(statistic=0.29115203487535624, critical_values=array([0.521, 0.593, 0.712, 0.83 , 0.988]), significance_level=array([15. , 10. ,  5. ,  2.5,  1. ]))\n",
      "AndersonResult(statistic=0.25772274137976225, critical_values=array([0.521, 0.593, 0.712, 0.83 , 0.988]), significance_level=array([15. , 10. ,  5. ,  2.5,  1. ]))\n"
     ]
    }
   ],
   "source": [
    "#Anderson Darling Test if Shapiro fails\n",
    "print(stats.anderson(Dentist_1,dist='norm'))\n",
    "print(stats.anderson(Dentist_2,dist='norm'))\n",
    "print(stats.anderson(Dentist_3,dist='norm'))\n",
    "\n",
    "print(stats.anderson(Method_1,dist='norm'))\n",
    "print(stats.anderson(Method_2,dist='norm'))\n",
    "\n",
    "print(stats.anderson(Temp_2,dist='norm'))"
   ]
  },
  {
   "cell_type": "code",
   "execution_count": 178,
   "id": "ebdbe626",
   "metadata": {},
   "outputs": [
    {
     "name": "stdout",
     "output_type": "stream",
     "text": [
      "LeveneResult(statistic=1.3736027902703822, pvalue=0.26240029040554935)\n",
      "LeveneResult(statistic=3.5342167607107005, pvalue=0.03344085077476839)\n",
      "LeveneResult(statistic=2.02655886945465, pvalue=0.15810620474519305)\n",
      "LeveneResult(statistic=0.11898237456285736, pvalue=0.887967666035956)\n"
     ]
    }
   ],
   "source": [
    "#checking Homogeniety\n",
    "#The Levene test tests the null hypothesis that all input samples are from populations with equal variances.\n",
    "#alpha = 0.05\n",
    "print(stats.levene(Dentist_1,Dentist_2,Dentist_3))\n",
    "print(stats.levene(Method_1,Method_2,Method_3))\n",
    "print(stats.levene(Alloy_1,Alloy_2))\n",
    "print(stats.levene(Temp_1,Temp_2,Temp_3))\n"
   ]
  },
  {
   "cell_type": "markdown",
   "id": "49d97931",
   "metadata": {},
   "source": [
    "In three variables pvalue is more than alpha, so fail to reject H0, and variances are equal"
   ]
  },
  {
   "cell_type": "markdown",
   "id": "79a22f7b",
   "metadata": {},
   "source": [
    "7.1-Test whether there is any difference among the dentists on the implant hardness. State the null and alternative hypotheses. Note that both types of alloys cannot be considered together. You must state the null and alternative hypotheses separately for the two types of alloys.?"
   ]
  },
  {
   "cell_type": "markdown",
   "id": "e578df59",
   "metadata": {},
   "source": [
    "## The Hypothesis for the One Way ANOVA are:\n",
    "    \n",
    " $H_0$: The mean response is the same for all three dentists. \n",
    " $H_a$: For at least one pair the mean response will be different. \n",
    "$H_0$:The mean response is same for both the alloys. \n",
    "$H_a$:The mean response is different for both the alloys. \n"
   ]
  },
  {
   "cell_type": "code",
   "execution_count": 189,
   "id": "c8711cd1",
   "metadata": {},
   "outputs": [
    {
     "data": {
      "text/html": [
       "<div>\n",
       "<style scoped>\n",
       "    .dataframe tbody tr th:only-of-type {\n",
       "        vertical-align: middle;\n",
       "    }\n",
       "\n",
       "    .dataframe tbody tr th {\n",
       "        vertical-align: top;\n",
       "    }\n",
       "\n",
       "    .dataframe thead th {\n",
       "        text-align: right;\n",
       "    }\n",
       "</style>\n",
       "<table border=\"1\" class=\"dataframe\">\n",
       "  <thead>\n",
       "    <tr style=\"text-align: right;\">\n",
       "      <th></th>\n",
       "      <th>df</th>\n",
       "      <th>sum_sq</th>\n",
       "      <th>mean_sq</th>\n",
       "      <th>F</th>\n",
       "      <th>PR(&gt;F)</th>\n",
       "    </tr>\n",
       "  </thead>\n",
       "  <tbody>\n",
       "    <tr>\n",
       "      <th>C(Dentist)</th>\n",
       "      <td>4.0</td>\n",
       "      <td>7.884522e+04</td>\n",
       "      <td>19711.305556</td>\n",
       "      <td>1.496761</td>\n",
       "      <td>0.210408</td>\n",
       "    </tr>\n",
       "    <tr>\n",
       "      <th>Residual</th>\n",
       "      <td>85.0</td>\n",
       "      <td>1.119391e+06</td>\n",
       "      <td>13169.309150</td>\n",
       "      <td>NaN</td>\n",
       "      <td>NaN</td>\n",
       "    </tr>\n",
       "  </tbody>\n",
       "</table>\n",
       "</div>"
      ],
      "text/plain": [
       "              df        sum_sq       mean_sq         F    PR(>F)\n",
       "C(Dentist)   4.0  7.884522e+04  19711.305556  1.496761  0.210408\n",
       "Residual    85.0  1.119391e+06  13169.309150       NaN       NaN"
      ]
     },
     "execution_count": 189,
     "metadata": {},
     "output_type": "execute_result"
    }
   ],
   "source": [
    "formula = 'Response ~ C(Dentist)'\n",
    "model = ols(formula, d3).fit()\n",
    "aov_table = anova_lm(model)\n",
    "(aov_table)"
   ]
  },
  {
   "cell_type": "markdown",
   "id": "776c6fcf",
   "metadata": {},
   "source": [
    "**Now, we see that the corresponding p-value is greater than alpha (0.05). Thus, we $\\textbf{fail to reject}$ the $\\textbf{Null Hypothesis}$ ($H_0$).**"
   ]
  },
  {
   "cell_type": "markdown",
   "id": "e040f798",
   "metadata": {},
   "source": [
    "Thus dentist does not derive the response. They are from same population."
   ]
  },
  {
   "cell_type": "markdown",
   "id": "8e2db789",
   "metadata": {},
   "source": [
    "7.3 Irrespective of your conclusion in 7.2, we will continue with the testing procedure. What do you conclude regarding whether implant hardness depends on dentists? Clearly state your conclusion. If the null hypothesis is rejected, is it possible to identify which pairs of dentists differ?"
   ]
  },
  {
   "cell_type": "markdown",
   "id": "0b89efed",
   "metadata": {},
   "source": [
    "## The Hypothesis for the One Way ANOVA are:\n",
    "    \n",
    " $H_0$: The mean response is the same for all three dentists. \n",
    " $H_a$: For at least one pair the mean response will be different. \n",
    "$H_0$:The mean response is same for both the alloys. \n",
    "$H_a$:The mean response is different for both the alloys. "
   ]
  },
  {
   "cell_type": "code",
   "execution_count": 180,
   "id": "99f1d148",
   "metadata": {},
   "outputs": [
    {
     "data": {
      "text/html": [
       "<div>\n",
       "<style scoped>\n",
       "    .dataframe tbody tr th:only-of-type {\n",
       "        vertical-align: middle;\n",
       "    }\n",
       "\n",
       "    .dataframe tbody tr th {\n",
       "        vertical-align: top;\n",
       "    }\n",
       "\n",
       "    .dataframe thead th {\n",
       "        text-align: right;\n",
       "    }\n",
       "</style>\n",
       "<table border=\"1\" class=\"dataframe\">\n",
       "  <thead>\n",
       "    <tr style=\"text-align: right;\">\n",
       "      <th></th>\n",
       "      <th>df</th>\n",
       "      <th>sum_sq</th>\n",
       "      <th>mean_sq</th>\n",
       "      <th>F</th>\n",
       "      <th>PR(&gt;F)</th>\n",
       "    </tr>\n",
       "  </thead>\n",
       "  <tbody>\n",
       "    <tr>\n",
       "      <th>C(Dentist)</th>\n",
       "      <td>4.0</td>\n",
       "      <td>7.884522e+04</td>\n",
       "      <td>19711.305556</td>\n",
       "      <td>1.496761</td>\n",
       "      <td>0.210408</td>\n",
       "    </tr>\n",
       "    <tr>\n",
       "      <th>Residual</th>\n",
       "      <td>85.0</td>\n",
       "      <td>1.119391e+06</td>\n",
       "      <td>13169.309150</td>\n",
       "      <td>NaN</td>\n",
       "      <td>NaN</td>\n",
       "    </tr>\n",
       "  </tbody>\n",
       "</table>\n",
       "</div>"
      ],
      "text/plain": [
       "              df        sum_sq       mean_sq         F    PR(>F)\n",
       "C(Dentist)   4.0  7.884522e+04  19711.305556  1.496761  0.210408\n",
       "Residual    85.0  1.119391e+06  13169.309150       NaN       NaN"
      ]
     },
     "execution_count": 180,
     "metadata": {},
     "output_type": "execute_result"
    }
   ],
   "source": [
    "formula = 'Response ~ C(Dentist)'\n",
    "model = ols(formula, d3).fit()\n",
    "aov_table = anova_lm(model)\n",
    "(aov_table)"
   ]
  },
  {
   "cell_type": "markdown",
   "id": "7136cbac",
   "metadata": {},
   "source": [
    "**Now, we see that the corresponding p-value is greater than alpha (0.05). Thus, we $\\textbf{fail to reject}$ the $\\textbf{Null Hypothesis}$ ($H_0$).**"
   ]
  },
  {
   "cell_type": "code",
   "execution_count": 181,
   "id": "9bd1941f",
   "metadata": {},
   "outputs": [
    {
     "data": {
      "text/plain": [
       "<AxesSubplot:xlabel='Dentist', ylabel='Response'>"
      ]
     },
     "execution_count": 181,
     "metadata": {},
     "output_type": "execute_result"
    },
    {
     "data": {
      "image/png": "[encoded data removed]",
      "text/plain": [
       "<Figure size 432x288 with 1 Axes>"
      ]
     },
     "metadata": {
      "needs_background": "light"
     },
     "output_type": "display_data"
    }
   ],
   "source": [
    "sns.pointplot(x='Dentist', y='Response', data=d3, ci=None)"
   ]
  },
  {
   "cell_type": "markdown",
   "id": "14ff501b",
   "metadata": {},
   "source": [
    "7.4 Now test whether there is any difference among the methods on the hardness of dental implant, separately for the two types of alloys. What are your conclusions? If the null hypothesis is rejected, is it possible to identify which pairs of methods differ?"
   ]
  },
  {
   "cell_type": "code",
   "execution_count": 182,
   "id": "9c9f8f63",
   "metadata": {},
   "outputs": [
    {
     "data": {
      "text/html": [
       "<div>\n",
       "<style scoped>\n",
       "    .dataframe tbody tr th:only-of-type {\n",
       "        vertical-align: middle;\n",
       "    }\n",
       "\n",
       "    .dataframe tbody tr th {\n",
       "        vertical-align: top;\n",
       "    }\n",
       "\n",
       "    .dataframe thead th {\n",
       "        text-align: right;\n",
       "    }\n",
       "</style>\n",
       "<table border=\"1\" class=\"dataframe\">\n",
       "  <thead>\n",
       "    <tr style=\"text-align: right;\">\n",
       "      <th></th>\n",
       "      <th>df</th>\n",
       "      <th>sum_sq</th>\n",
       "      <th>mean_sq</th>\n",
       "      <th>F</th>\n",
       "      <th>PR(&gt;F)</th>\n",
       "    </tr>\n",
       "  </thead>\n",
       "  <tbody>\n",
       "    <tr>\n",
       "      <th>C(Method)</th>\n",
       "      <td>2.0</td>\n",
       "      <td>381888.600000</td>\n",
       "      <td>190944.300000</td>\n",
       "      <td>23.924098</td>\n",
       "      <td>5.978800e-09</td>\n",
       "    </tr>\n",
       "    <tr>\n",
       "      <th>C(Alloy)</th>\n",
       "      <td>1.0</td>\n",
       "      <td>99533.877778</td>\n",
       "      <td>99533.877778</td>\n",
       "      <td>12.470957</td>\n",
       "      <td>6.740362e-04</td>\n",
       "    </tr>\n",
       "    <tr>\n",
       "      <th>C(Method):C(Alloy)</th>\n",
       "      <td>2.0</td>\n",
       "      <td>46388.688889</td>\n",
       "      <td>23194.344444</td>\n",
       "      <td>2.906103</td>\n",
       "      <td>6.020670e-02</td>\n",
       "    </tr>\n",
       "    <tr>\n",
       "      <th>Residual</th>\n",
       "      <td>84.0</td>\n",
       "      <td>670425.333333</td>\n",
       "      <td>7981.253968</td>\n",
       "      <td>NaN</td>\n",
       "      <td>NaN</td>\n",
       "    </tr>\n",
       "  </tbody>\n",
       "</table>\n",
       "</div>"
      ],
      "text/plain": [
       "                      df         sum_sq        mean_sq          F  \\\n",
       "C(Method)            2.0  381888.600000  190944.300000  23.924098   \n",
       "C(Alloy)             1.0   99533.877778   99533.877778  12.470957   \n",
       "C(Method):C(Alloy)   2.0   46388.688889   23194.344444   2.906103   \n",
       "Residual            84.0  670425.333333    7981.253968        NaN   \n",
       "\n",
       "                          PR(>F)  \n",
       "C(Method)           5.978800e-09  \n",
       "C(Alloy)            6.740362e-04  \n",
       "C(Method):C(Alloy)  6.020670e-02  \n",
       "Residual                     NaN  "
      ]
     },
     "execution_count": 182,
     "metadata": {},
     "output_type": "execute_result"
    }
   ],
   "source": [
    "formula = 'Response ~ C(Method) + C(Alloy) + C(Method):C(Alloy)'\n",
    "model = ols(formula, d3).fit()\n",
    "aov_table = anova_lm(model)\n",
    "(aov_table)"
   ]
  },
  {
   "cell_type": "markdown",
   "id": "57ee76b9",
   "metadata": {},
   "source": [
    "**We see that the corresponding p-value is smaller than alpha (0.05). Thus, we $\\textbf{reject}$ the $\\textbf{Null Hypothesis}$ ($H_0$).**"
   ]
  },
  {
   "cell_type": "code",
   "execution_count": 183,
   "id": "ee8e847a",
   "metadata": {},
   "outputs": [
    {
     "data": {
      "text/plain": [
       "<AxesSubplot:xlabel='Method', ylabel='Response'>"
      ]
     },
     "execution_count": 183,
     "metadata": {},
     "output_type": "execute_result"
    },
    {
     "data": {
      "image/png": "[encoded data removed]",
      "text/plain": [
       "<Figure size 432x288 with 1 Axes>"
      ]
     },
     "metadata": {
      "needs_background": "light"
     },
     "output_type": "display_data"
    }
   ],
   "source": [
    "sns.pointplot(x='Method', y='Response', data=d3, hue='Alloy', ci=None)"
   ]
  },
  {
   "cell_type": "code",
   "execution_count": 184,
   "id": "e584e6ff",
   "metadata": {},
   "outputs": [
    {
     "data": {
      "text/plain": [
       "<AxesSubplot:xlabel='Alloy', ylabel='Response'>"
      ]
     },
     "execution_count": 184,
     "metadata": {},
     "output_type": "execute_result"
    },
    {
     "data": {
      "image/png": "[encoded data removed]",
      "text/plain": [
       "<Figure size 432x288 with 1 Axes>"
      ]
     },
     "metadata": {
      "needs_background": "light"
     },
     "output_type": "display_data"
    }
   ],
   "source": [
    "sns.pointplot(x='Alloy', y='Response', data=d3, hue='Method', ci=None)"
   ]
  },
  {
   "cell_type": "markdown",
   "id": "260988ac",
   "metadata": {},
   "source": [
    "7.5 Now test whether there is any difference among the temperature levels on the hardness of dental implant, separately for the two types of alloys. What are your conclusions? If the null hypothesis is rejected, is it possible to identify which levels of temperatures differ?"
   ]
  },
  {
   "cell_type": "code",
   "execution_count": 191,
   "id": "bf9bde01",
   "metadata": {},
   "outputs": [
    {
     "data": {
      "text/html": [
       "<div>\n",
       "<style scoped>\n",
       "    .dataframe tbody tr th:only-of-type {\n",
       "        vertical-align: middle;\n",
       "    }\n",
       "\n",
       "    .dataframe tbody tr th {\n",
       "        vertical-align: top;\n",
       "    }\n",
       "\n",
       "    .dataframe thead th {\n",
       "        text-align: right;\n",
       "    }\n",
       "</style>\n",
       "<table border=\"1\" class=\"dataframe\">\n",
       "  <thead>\n",
       "    <tr style=\"text-align: right;\">\n",
       "      <th></th>\n",
       "      <th>df</th>\n",
       "      <th>sum_sq</th>\n",
       "      <th>mean_sq</th>\n",
       "      <th>F</th>\n",
       "      <th>PR(&gt;F)</th>\n",
       "    </tr>\n",
       "  </thead>\n",
       "  <tbody>\n",
       "    <tr>\n",
       "      <th>C(Temp)</th>\n",
       "      <td>2.0</td>\n",
       "      <td>3.546060e+04</td>\n",
       "      <td>17730.300000</td>\n",
       "      <td>1.421276</td>\n",
       "      <td>0.247151</td>\n",
       "    </tr>\n",
       "    <tr>\n",
       "      <th>C(Alloy)</th>\n",
       "      <td>1.0</td>\n",
       "      <td>9.953388e+04</td>\n",
       "      <td>99533.877778</td>\n",
       "      <td>7.978719</td>\n",
       "      <td>0.005911</td>\n",
       "    </tr>\n",
       "    <tr>\n",
       "      <th>C(Temp):C(Alloy)</th>\n",
       "      <td>2.0</td>\n",
       "      <td>1.534882e+04</td>\n",
       "      <td>7674.411111</td>\n",
       "      <td>0.615187</td>\n",
       "      <td>0.542957</td>\n",
       "    </tr>\n",
       "    <tr>\n",
       "      <th>Residual</th>\n",
       "      <td>84.0</td>\n",
       "      <td>1.047893e+06</td>\n",
       "      <td>12474.919048</td>\n",
       "      <td>NaN</td>\n",
       "      <td>NaN</td>\n",
       "    </tr>\n",
       "  </tbody>\n",
       "</table>\n",
       "</div>"
      ],
      "text/plain": [
       "                    df        sum_sq       mean_sq         F    PR(>F)\n",
       "C(Temp)            2.0  3.546060e+04  17730.300000  1.421276  0.247151\n",
       "C(Alloy)           1.0  9.953388e+04  99533.877778  7.978719  0.005911\n",
       "C(Temp):C(Alloy)   2.0  1.534882e+04   7674.411111  0.615187  0.542957\n",
       "Residual          84.0  1.047893e+06  12474.919048       NaN       NaN"
      ]
     },
     "execution_count": 191,
     "metadata": {},
     "output_type": "execute_result"
    }
   ],
   "source": [
    "formula = 'Response ~ C(Temp) + C(Alloy)+C(Temp):C(Alloy)'\n",
    "model = ols(formula, d3).fit()\n",
    "aov_table = anova_lm(model)\n",
    "(aov_table)"
   ]
  },
  {
   "cell_type": "markdown",
   "id": "ceed66be",
   "metadata": {},
   "source": [
    "7.6 Consider the interaction effect of dentist and method and comment on the interaction plot, separately for the two types of alloys?"
   ]
  },
  {
   "cell_type": "code",
   "execution_count": 186,
   "id": "0b8c0e3e",
   "metadata": {},
   "outputs": [
    {
     "data": {
      "text/html": [
       "<div>\n",
       "<style scoped>\n",
       "    .dataframe tbody tr th:only-of-type {\n",
       "        vertical-align: middle;\n",
       "    }\n",
       "\n",
       "    .dataframe tbody tr th {\n",
       "        vertical-align: top;\n",
       "    }\n",
       "\n",
       "    .dataframe thead th {\n",
       "        text-align: right;\n",
       "    }\n",
       "</style>\n",
       "<table border=\"1\" class=\"dataframe\">\n",
       "  <thead>\n",
       "    <tr style=\"text-align: right;\">\n",
       "      <th></th>\n",
       "      <th>df</th>\n",
       "      <th>sum_sq</th>\n",
       "      <th>mean_sq</th>\n",
       "      <th>F</th>\n",
       "      <th>PR(&gt;F)</th>\n",
       "    </tr>\n",
       "  </thead>\n",
       "  <tbody>\n",
       "    <tr>\n",
       "      <th>C(Dentist)</th>\n",
       "      <td>4.0</td>\n",
       "      <td>78845.222222</td>\n",
       "      <td>19711.305556</td>\n",
       "      <td>2.548191</td>\n",
       "      <td>4.613193e-02</td>\n",
       "    </tr>\n",
       "    <tr>\n",
       "      <th>C(Method)</th>\n",
       "      <td>2.0</td>\n",
       "      <td>381888.600000</td>\n",
       "      <td>190944.300000</td>\n",
       "      <td>24.684441</td>\n",
       "      <td>5.795721e-09</td>\n",
       "    </tr>\n",
       "    <tr>\n",
       "      <th>C(Dentist):C(Method)</th>\n",
       "      <td>8.0</td>\n",
       "      <td>157346.844444</td>\n",
       "      <td>19668.355556</td>\n",
       "      <td>2.542639</td>\n",
       "      <td>1.657388e-02</td>\n",
       "    </tr>\n",
       "    <tr>\n",
       "      <th>Residual</th>\n",
       "      <td>75.0</td>\n",
       "      <td>580155.833333</td>\n",
       "      <td>7735.411111</td>\n",
       "      <td>NaN</td>\n",
       "      <td>NaN</td>\n",
       "    </tr>\n",
       "  </tbody>\n",
       "</table>\n",
       "</div>"
      ],
      "text/plain": [
       "                        df         sum_sq        mean_sq          F  \\\n",
       "C(Dentist)             4.0   78845.222222   19711.305556   2.548191   \n",
       "C(Method)              2.0  381888.600000  190944.300000  24.684441   \n",
       "C(Dentist):C(Method)   8.0  157346.844444   19668.355556   2.542639   \n",
       "Residual              75.0  580155.833333    7735.411111        NaN   \n",
       "\n",
       "                            PR(>F)  \n",
       "C(Dentist)            4.613193e-02  \n",
       "C(Method)             5.795721e-09  \n",
       "C(Dentist):C(Method)  1.657388e-02  \n",
       "Residual                       NaN  "
      ]
     },
     "execution_count": 186,
     "metadata": {},
     "output_type": "execute_result"
    }
   ],
   "source": [
    "formula = 'Response ~ C(Dentist) + C(Method) + C(Dentist):C(Method)'\n",
    "model = ols(formula, d3).fit()\n",
    "aov_table = anova_lm(model)\n",
    "(aov_table)"
   ]
  },
  {
   "cell_type": "markdown",
   "id": "d537eec3",
   "metadata": {},
   "source": [
    "Since the p value for interaction effect is way less than alpha, we can conclude that there is no effect of interaction effect on our response variable. "
   ]
  },
  {
   "cell_type": "code",
   "execution_count": 187,
   "id": "f26bdb52",
   "metadata": {},
   "outputs": [
    {
     "data": {
      "text/plain": [
       "<AxesSubplot:xlabel='Dentist', ylabel='Response'>"
      ]
     },
     "execution_count": 187,
     "metadata": {},
     "output_type": "execute_result"
    },
    {
     "data": {
      "image/png": "[encoded data removed]",
      "text/plain": [
       "<Figure size 432x288 with 1 Axes>"
      ]
     },
     "metadata": {
      "needs_background": "light"
     },
     "output_type": "display_data"
    }
   ],
   "source": [
    "sns.pointplot(x='Dentist', y='Response', data=d3, hue='Method', ci=None)"
   ]
  },
  {
   "cell_type": "markdown",
   "id": "9d746192",
   "metadata": {},
   "source": [
    "7.7 Now consider the effect of both factors, dentist, and method, separately on each alloy. What do you conclude? Is it possible to identify which dentists are different, which methods are different, and which interaction levels are different?"
   ]
  },
  {
   "cell_type": "code",
   "execution_count": null,
   "id": "10c31872",
   "metadata": {},
   "outputs": [],
   "source": []
  }
 ],
 "metadata": {
  "kernelspec": {
   "display_name": "Python 3 (ipykernel)",
   "language": "python",
   "name": "python3"
  },
  "language_info": {
   "codemirror_mode": {
    "name": "ipython",
    "version": 3
   },
   "file_extension": ".py",
   "mimetype": "text/x-python",
   "name": "python",
   "nbconvert_exporter": "python",
   "pygments_lexer": "ipython3",
   "version": "3.9.12"
  }
 },
 "nbformat": 4,
 "nbformat_minor": 5
}
